{
 "cells": [
  {
   "cell_type": "markdown",
   "id": "47b4e8ca",
   "metadata": {
    "vscode": {
     "languageId": "plaintext"
    }
   },
   "source": [
    "Exercises"
   ]
  },
  {
   "cell_type": "code",
   "execution_count": null,
   "id": "ebdacf81",
   "metadata": {},
   "outputs": [],
   "source": [
    "# Example code\n",
    "\n",
    "# Make a list\n",
    "print(\"Exercises\")\n",
    "mylist = [\"A\", \"list\", \"can\", \"contain\", \"strings\", \"and\", \"numbers\", 2]\n",
    "# You can double check if it's a list\n",
    "print(type(mylist))\n",
    "\n",
    "# print your list\n",
    "print(mylist)\n",
    "\n",
    "# print the first item in your list\n",
    "print(mylist[0])"
   ]
  },
  {
   "cell_type": "markdown",
   "id": "fe8a8b5b",
   "metadata": {},
   "source": [
    "Task: 3.1 - Simple Loops"
   ]
  },
  {
   "cell_type": "code",
   "execution_count": 121,
   "id": "c892e8f0",
   "metadata": {},
   "outputs": [
    {
     "name": "stdout",
     "output_type": "stream",
     "text": [
      "Here are some quotes hyped in current global village of social media regardless of how correct they may or may not be:\n",
      "\n",
      "1. Just Do It!\n",
      "2. Alla är lika värda.\n",
      "3. You only live once.\n",
      "4. Do not let anybody tell you what to do.\n",
      "5. It is what it is.\n"
     ]
    }
   ],
   "source": [
    "quotes_list = [\"Just Do It!\", \n",
    "               \"Alla är lika värda.\", \n",
    "               \"You only live once.\", \n",
    "               \"Do not let anybody tell you what to do.\", \n",
    "               \"It is what it is.\", \n",
    "               \"Ignorance is bliss.\", \n",
    "               \"Breakfast is the most important meal of the day.\"]\n",
    "print(\"Here are some quotes hyped in current global village of social media regardless of how correct they may or may not be:\\n\")\n",
    "for n, i in enumerate(quotes_list):\n",
    "    print(f\"{n+1}. {i}\")\n",
    "    if n >= 4:\n",
    "        break\n"
   ]
  },
  {
   "cell_type": "markdown",
   "id": "1a05e33b",
   "metadata": {},
   "source": [
    "Task: 3.2 - Nested Loops"
   ]
  },
  {
   "cell_type": "code",
   "execution_count": null,
   "id": "60b9e110",
   "metadata": {},
   "outputs": [],
   "source": [
    "print(\"Example Code: \")\n",
    "sequences = ['ATCTGAGTCCACACATG', 'GCGTCGTGCGATGTTCACGTTGAT', 'CAGTAGTACTCAGT', 'GGTATGCTAGACGAGATCTAATA']\n",
    "codons = ['CCA', 'TGT', 'GTA', 'TAG']\n",
    "for sequence in sequences:\n",
    "  for codon in codons:\n",
    "    if codon in sequence:\n",
    "      print(codon + \" is in \" + sequence)"
   ]
  },
  {
   "cell_type": "markdown",
   "id": "2744d381",
   "metadata": {},
   "source": [
    "3.2.1: Nested for loop that looks for start and stop codons in the sequences list."
   ]
  },
  {
   "cell_type": "code",
   "execution_count": 120,
   "id": "02a66649",
   "metadata": {},
   "outputs": [
    {
     "name": "stdout",
     "output_type": "stream",
     "text": [
      "Start Codon ATG is in no.1 sequence ATCTGAGTCCACACATG\n",
      "Start Codon ATG is in no.1 sequence ATCTGAGTCCACACATG\n",
      "Stop Codon TGA is in no.1 sequence ATCTGAGTCCACACATG.\n",
      "Start Codon ATG is in no.2 sequence GCGTCGTGCGATGTTCACGTTGAT\n",
      "Start Codon ATG is in no.2 sequence GCGTCGTGCGATGTTCACGTTGAT\n",
      "Stop Codon TGA is in no.2 sequence GCGTCGTGCGATGTTCACGTTGAT.\n",
      "Stop Codon TAG is in no.3 sequence CAGTAGTACTCAGT.\n",
      "Stop Codon TAA is in no.4 sequence GGTATGCTAGACGAGATCTAATA.\n",
      "Stop Codon TAG is in no.4 sequence GGTATGCTAGACGAGATCTAATA.\n",
      "Start Codon ATG is in no.4 sequence GGTATGCTAGACGAGATCTAATA\n"
     ]
    }
   ],
   "source": [
    "sequences = ['ATCTGAGTCCACACATG', 'GCGTCGTGCGATGTTCACGTTGAT', 'CAGTAGTACTCAGT', 'GGTATGCTAGACGAGATCTAATA']\n",
    "start_codon = 'ATG'\n",
    "stop_codons =  ['TAA', 'TAG', 'TGA']\n",
    "for nr, sequence in enumerate(sequences):\n",
    "    for stop_codon in stop_codons:\n",
    "        if stop_codon in sequence: \n",
    "            print(f\"Stop Codon {stop_codon} is in no.{nr+1} sequence {sequence}.\")\n",
    "        elif start_codon in sequence:\n",
    "            print(f\"Start Codon {start_codon} is in no.{nr+1} sequence {sequence}\") \n",
    "        elif start_codon and stop_codon in sequence:\n",
    "            print(f\"Start codon {start_codon} and Stop Codon {stop_codon} is in no.{nr+1}th sequence {sequence}.\")"
   ]
  },
  {
   "cell_type": "code",
   "execution_count": null,
   "id": "5c5af03c",
   "metadata": {},
   "outputs": [
    {
     "name": "stdout",
     "output_type": "stream",
     "text": [
      "start codon comes before stop codon in 2th GCGTCGTGCGATGTTCACGTTGAT.\n",
      "start codon comes before stop codon in 3th CAGTAGTACTCAGT.\n",
      "start codon comes before stop codon in 4th GGTATGCTAGACGAGATCTAATA.\n"
     ]
    }
   ],
   "source": [
    "\"LOOP - START CODON BEFORE STOP CODON\"\n",
    "\n",
    "sequences = ['ATCTGAGTCCACACATG', 'GCGTCGTGCGATGTTCACGTTGAT', 'CAGTAGTACTCAGT', 'GGTATGCTAGACGAGATCTAATA']\n",
    "\n",
    "\n",
    "for nr, sequence in enumerate(sequences):\n",
    "    start_pos = sequence.find('ATG')\n",
    "    stop_codon1_pos = sequence.find('TAA')\n",
    "    stop_codon2_pos = sequence.find('TAG')\n",
    "    stop_codon3_pos = sequence.find('TGA')\n",
    "    if start_pos < stop_codon1_pos or start_pos < stop_codon2_pos or start_pos < stop_codon3_pos:\n",
    "        print(f\"Start codon comes before stop codon in {nr+1}th sequence{sequence}.\")\n",
    "\n",
    "        "
   ]
  },
  {
   "cell_type": "markdown",
   "id": "4df5cbbd",
   "metadata": {},
   "source": [
    "3.2.2 Dictionary "
   ]
  },
  {
   "cell_type": "code",
   "execution_count": null,
   "id": "8a2408a2",
   "metadata": {},
   "outputs": [
    {
     "name": "stdout",
     "output_type": "stream",
     "text": [
      "pat_001\n",
      "['bacZZt98', 'bac889Ytd']\n",
      "pat_002\n",
      "['bac0GFrr']\n",
      "pat_003\n",
      "['bac889Ytd', 'bacFq55Hj', 'bacZZt98']\n",
      "\n",
      "\n",
      "pat_001\n",
      "['bacZZt98', 'bac889Ytd']\n",
      "pat_002\n",
      "['bac0GFrr']\n",
      "pat_003\n",
      "['bac889Ytd', 'bacFq55Hj', 'bacZZt98']\n"
     ]
    }
   ],
   "source": [
    "\"Example Code\"\n",
    "# Note: you can assign multiple values to a single key ; in forms of a e.g., list, tuple or range\n",
    "data = dict({'pat_001': ['bacZZt98', 'bac889Ytd'], 'pat_002': ['bac0GFrr'], 'pat_003': ['bac889Ytd', 'bacFq55Hj', 'bacZZt98']})\n",
    "\n",
    "# Loop through the dict printing each key and each value as a list.\n",
    "for key_patient, value_bact_list in data.items():  # item is the pair of key and value together\n",
    "  print(key_patient)\n",
    "  print(value_bact_list)\n",
    "print(\"\\n\")\n",
    "# add a line to see if the value (list) has the bacterial strain 'bac889Ytd'. \n",
    "# If it does it should return 'True'. If not, it should say 'False'.\n",
    "\n",
    "for key_patient, value_bact_list in data.items():  \n",
    "  print(key_patient)\n",
    "  print(value_bact_list)\n",
    "  'bac889Ytd' in value_bact_list"
   ]
  },
  {
   "cell_type": "markdown",
   "id": "6b87146e",
   "metadata": {},
   "source": [
    "### 3.2.3\n",
    "Make a loop going through the dictionary saved as ``data``, given in the example. Use the loop to create a list of all the unique bacteria. \n",
    "Start by creating an empty list. Then create a for-loop where, for each iteration, you add the current bacteria to the list. \n",
    "Next, introduce an if-statement. Before adding each bacteria, use the if-statement to check whether the bacteria is or is not already in the list. If it’s not in the list, add it (Hint: use the ``append()`` command). Otherwise, continue to the next bacteria. See if you can use a search engine (like google) to figure out how to append items to a list."
   ]
  },
  {
   "cell_type": "code",
   "execution_count": 105,
   "id": "698ada3a",
   "metadata": {},
   "outputs": [
    {
     "data": {
      "text/plain": [
       "['bacZZt98', 'bac889Ytd', 'bac0GFrr', 'bacFq55Hj']"
      ]
     },
     "execution_count": 105,
     "metadata": {},
     "output_type": "execute_result"
    }
   ],
   "source": [
    "bac_list= []\n",
    "\n",
    "for bac in data.values():\n",
    "    if bac not in bac_list:\n",
    "        bac_list.append(bac)\n",
    "\n",
    "bac_list = [item for sublist in bac_list for item in sublist]\n",
    "bac_list = list(dict.fromkeys(bac_list))\n",
    "bac_list\n"
   ]
  },
  {
   "cell_type": "markdown",
   "id": "c1714a2b",
   "metadata": {},
   "source": [
    "## 3.2.4\n",
    "Lets do the same thing but instead add each unique bacteria as a key in a dictionary. The values can be empty lists. Start by making an empty dictionary. Hint: Search online for how to list the keys in a dict, in order to compare each bacteria to the dict you’re building."
   ]
  },
  {
   "cell_type": "code",
   "execution_count": 106,
   "id": "acfd93b1",
   "metadata": {},
   "outputs": [],
   "source": [
    "bac_dict = {key: '' for key in bac_list}\n"
   ]
  },
  {
   "cell_type": "markdown",
   "id": "16ae10c0",
   "metadata": {},
   "source": [
    "## 3.2.5\n",
    "Now let’s append the patients to the lists of each key. The final dict should look like this: ``python {'bacZZt98': ['pat_001', 'pat_003'], 'bac889Ytd': ['pat_001', 'pat_003'], 'bac0GFrr': ['pat_002'], 'bacFq55Hj': ['pat_003']}``"
   ]
  },
  {
   "cell_type": "code",
   "execution_count": 119,
   "id": "59c2135a",
   "metadata": {},
   "outputs": [
    {
     "data": {
      "text/plain": [
       "{'bacZZt98': ['pat_001', 'pat_003'],\n",
       " 'bac889Ytd': ['pat_001', 'pat_003'],\n",
       " 'bac0GFrr': ['pat_002'],\n",
       " 'bacFq55Hj': ['pat_003']}"
      ]
     },
     "execution_count": 119,
     "metadata": {},
     "output_type": "execute_result"
    }
   ],
   "source": [
    "value_list = ['pat_001', 'pat_003'], ['pat_001', 'pat_003'], ['pat_002'], ['pat_003']\n",
    "\n",
    "bac_dict\n",
    "\n",
    "for i in range(len(bac_list)):\n",
    "    bac_dict[bac_list[i]] = value_list[i]\n",
    "\n",
    "bac_dict"
   ]
  }
 ],
 "metadata": {
  "kernelspec": {
   "display_name": "Python 3",
   "language": "python",
   "name": "python3"
  },
  "language_info": {
   "codemirror_mode": {
    "name": "ipython",
    "version": 3
   },
   "file_extension": ".py",
   "mimetype": "text/x-python",
   "name": "python",
   "nbconvert_exporter": "python",
   "pygments_lexer": "ipython3",
   "version": "3.13.7"
  }
 },
 "nbformat": 4,
 "nbformat_minor": 5
}
